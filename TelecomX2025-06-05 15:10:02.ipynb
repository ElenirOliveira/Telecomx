{
 "cells": [
  {
   "cell_type": "markdown",
   "metadata": {
    "application/vnd.databricks.v1+cell": {
     "cellMetadata": {},
     "inputWidgets": {},
     "nuid": "01e7ff4f-f36b-4c65-830d-3bbdd02020e5",
     "showTitle": false,
     "tableResultSettingsMap": {},
     "title": ""
    }
   },
   "source": [
    "# Camada Bronze - Extração dos dados"
   ]
  },
  {
   "cell_type": "code",
   "execution_count": 0,
   "metadata": {
    "application/vnd.databricks.v1+cell": {
     "cellMetadata": {
      "byteLimit": 2048000,
      "rowLimit": 10000
     },
     "inputWidgets": {},
     "nuid": "9cb62b67-9827-4560-92dd-ba46aac80d78",
     "showTitle": false,
     "tableResultSettingsMap": {},
     "title": ""
    }
   },
   "outputs": [],
   "source": [
    "import pandas as pd\n",
    "import re\n",
    "import matplotlib.pyplot as plt\n",
    "import seaborn as sns"
   ]
  },
  {
   "cell_type": "code",
   "execution_count": 0,
   "metadata": {
    "application/vnd.databricks.v1+cell": {
     "cellMetadata": {
      "byteLimit": 2048000,
      "rowLimit": 10000
     },
     "inputWidgets": {},
     "nuid": "6081675d-af61-42ec-90c1-f38f677bb25d",
     "showTitle": false,
     "tableResultSettingsMap": {},
     "title": ""
    }
   },
   "outputs": [],
   "source": [
    "%python\n",
    "# Check if the file exists\n",
    "if dbutils.fs.ls('/FileStore/tables/TelecomX_Data.json'):\n",
    "    # Read the JSON file\n",
    "    url = '/dbfs/FileStore/tables/TelecomX_Data.json'\n",
    "    df_raw = pd.read_json(url)\n",
    "    display(df_raw.head())\n",
    "else:\n",
    "    print(\"File does not exist\")"
   ]
  },
  {
   "cell_type": "markdown",
   "metadata": {
    "application/vnd.databricks.v1+cell": {
     "cellMetadata": {},
     "inputWidgets": {},
     "nuid": "449a7f42-e6aa-454f-8892-552e4c8e5fbc",
     "showTitle": false,
     "tableResultSettingsMap": {},
     "title": ""
    }
   },
   "source": [
    "# Transformação - Camada Silver"
   ]
  },
  {
   "cell_type": "code",
   "execution_count": 0,
   "metadata": {
    "application/vnd.databricks.v1+cell": {
     "cellMetadata": {
      "byteLimit": 2048000,
      "rowLimit": 10000
     },
     "inputWidgets": {},
     "nuid": "9faddf73-c13b-4a3b-8286-c8cf855ba4fc",
     "showTitle": false,
     "tableResultSettingsMap": {},
     "title": ""
    }
   },
   "outputs": [],
   "source": [
    "# Verifica se as colunas aninhadas existem antes de expandir\n",
    "colunas_aninhadas = ['customer', 'phone', 'internet', 'account']\n",
    "colunas_existentes = [col for col in colunas_aninhadas if col in df_raw.columns]\n",
    "# Expande apenas as colunas que existem\n",
    "df_expandido = pd.concat(\n",
    "    [df_raw.drop(columns=colunas_existentes)] +\n",
    "    [df_raw[col].apply(pd.Series) for col in colunas_existentes if col in df_raw.columns],\n",
    "    axis=1\n",
    ")\n"
   ]
  },
  {
   "cell_type": "code",
   "execution_count": 0,
   "metadata": {
    "application/vnd.databricks.v1+cell": {
     "cellMetadata": {
      "byteLimit": 2048000,
      "rowLimit": 10000
     },
     "inputWidgets": {},
     "nuid": "5a26cc85-5642-4888-8243-3261e12ea447",
     "showTitle": false,
     "tableResultSettingsMap": {},
     "title": ""
    }
   },
   "outputs": [],
   "source": [
    "# Renomeia se a coluna existir\n",
    "if \"customerID\" in df_expandido.columns:\n",
    "    df_expandido.rename(columns={\"customerID\": \"id_cliente\"}, inplace=True)\n",
    "    # Expandindo coluna Charges, se existir\n",
    "if 'Charges' in df_expandido.columns:\n",
    "    charges_expandido = df_expandido['Charges'].apply(pd.Series)\n",
    "    df_expandido = pd.concat([\n",
    "        df_expandido.drop(columns=['Charges']),\n",
    "        charges_expandido\n",
    "    ], axis=1)\n",
    "\n",
    "# Renomear colunas após expandir\n",
    "df_expandido.rename(columns={\n",
    "    'Monthly': 'valor_mensal',\n",
    "    'Total': 'valor_total',\n",
    "    'gender': 'Genero',\n",
    "    'SeniorCitizen': 'Idoso',\n",
    "    'Partner': 'Parceiro',\n",
    "    'Dependents': 'Dependentes',\n",
    "    'tenure': 'Tempo de serviço',\n",
    "    'PhoneService': 'Telefone',\n",
    "    'MultipleLines': 'Multiplas linhas',\n",
    "    'InternetService': 'Servico de internet',\n",
    "    'OnlineSecurity': 'Seguranca online',\n",
    "    'OnlineBackup': 'Backup',\n",
    "    'DeviceProtection': 'Protecao de dispositivo',\n",
    "    'TechSupport': 'Suporte tecnico',\n",
    "    'StreamingTV': 'Streaming TV',\n",
    "    'StreamingMovies': 'Streaming Filmes',\n",
    "    'Contract': 'Contrato',\n",
    "    'PaperlessBilling': 'Faturamento',\n",
    "    'PaymentMethod': 'Metodo de pagamento'\n",
    "}, inplace=True)\n",
    "\n",
    "# Conversão numérica com tratamento de valores ausentes\n",
    "if 'valor_mensal' in df_expandido.columns:\n",
    "    df_expandido['valor_mensal'] = pd.to_numeric(df_expandido['valor_mensal'], errors='coerce').fillna(0)\n",
    "if 'valor_total' in df_expandido.columns:\n",
    "    df_expandido['valor_total'] = pd.to_numeric(df_expandido['valor_total'], errors='coerce').fillna(0)\n",
    "\n",
    "print(df_expandido.head())"
   ]
  },
  {
   "cell_type": "code",
   "execution_count": 0,
   "metadata": {
    "application/vnd.databricks.v1+cell": {
     "cellMetadata": {
      "byteLimit": 2048000,
      "rowLimit": 10000
     },
     "inputWidgets": {},
     "nuid": "ae489aea-41d0-4729-8c1b-d1723c624dd3",
     "showTitle": false,
     "tableResultSettingsMap": {},
     "title": ""
    }
   },
   "outputs": [],
   "source": [
    "# Substitui valores em branco por NaN\n",
    "df_expandido.replace('', pd.NA, inplace=True)\n",
    "\n",
    "# Remove caracteres especiais de todas as colunas de string\n",
    "for col in df_expandido.select_dtypes(include='object').columns:\n",
    "    df_expandido[col] = df_expandido[col].apply(lambda x: re.sub(r'[^a-zA-Z0-9\\s]', '', str(x)) if pd.notna(x) else x)\n",
    "\n",
    "# Remove duplicatas\n",
    "df_expandido.drop_duplicates(inplace=True)\n",
    "\n",
    "print(df_expandido.head())"
   ]
  },
  {
   "cell_type": "code",
   "execution_count": 0,
   "metadata": {
    "application/vnd.databricks.v1+cell": {
     "cellMetadata": {
      "byteLimit": 2048000,
      "rowLimit": 10000
     },
     "inputWidgets": {},
     "nuid": "95d28277-5fd3-454e-a372-7cc539874e29",
     "showTitle": false,
     "tableResultSettingsMap": {},
     "title": ""
    }
   },
   "outputs": [],
   "source": [
    "# Criar a coluna 'Contas_Diarias' dividindo o 'valor_mensal' por 30 (aproximadamente o número de dias em um mês)\n",
    "df_expandido['Contas_Diarias'] = df_expandido['valor_mensal'] / 30\n",
    "\n",
    "print(df_expandido.head())"
   ]
  },
  {
   "cell_type": "code",
   "execution_count": 0,
   "metadata": {
    "application/vnd.databricks.v1+cell": {
     "cellMetadata": {
      "byteLimit": 2048000,
      "rowLimit": 10000
     },
     "inputWidgets": {},
     "nuid": "b2ecbaaa-817a-4380-b901-7c3aeba5a674",
     "showTitle": false,
     "tableResultSettingsMap": {},
     "title": ""
    }
   },
   "outputs": [],
   "source": [
    "# Função para transformar 'Sim'/'Não' em 1/0\n",
    "def transformar_sim_nao(df, colunas):\n",
    "  for coluna in colunas:\n",
    "    if coluna in df.columns:\n",
    "      df[coluna] = df[coluna].apply(lambda x: 1 if x == 'Yes' else (0 if x == 'No' else x))\n",
    "  return df\n",
    "\n",
    "# Transformar colunas 'Sim'/'Não' em 1/0\n",
    "colunas_sim_nao = ['Parceiro', 'Dependentes', 'Telefone', 'MultipleLines', 'OnlineSecurity', 'OnlineBackup',\n",
    "                   'DeviceProtection', 'TechSupport', 'StreamingTV', 'StreamingMovies', 'PaperlessBilling']\n",
    "df_expandido = transformar_sim_nao(df_expandido, colunas_sim_nao)\n",
    "\n",
    "\n",
    "# Transformar a coluna 'Genero' em 'Masculino' e 'Feminino'\n",
    "if 'Genero' in df_expandido.columns:\n",
    "  df_expandido['Genero'] = df_expandido['Genero'].apply(lambda x: 'Feminino' if x == 'Female' else ('Masculino' if x == 'Male' else x))\n",
    "\n",
    "# Transformar a coluna 'Idoso' em 'Sim' e 'Não'\n",
    "if 'Idoso' in df_expandido.columns:\n",
    "  df_expandido['Idoso'] = df_expandido['Idoso'].apply(lambda x: 'Sim' if x == 1 else ('Não' if x == 0 else x))\n",
    "\n",
    "print(df_expandido.head())"
   ]
  },
  {
   "cell_type": "markdown",
   "metadata": {
    "application/vnd.databricks.v1+cell": {
     "cellMetadata": {},
     "inputWidgets": {},
     "nuid": "2790bf29-9539-4067-b3ae-aa239061cda6",
     "showTitle": false,
     "tableResultSettingsMap": {},
     "title": ""
    }
   },
   "source": [
    "# Anáises exploratória e visualização - Camada Gold"
   ]
  },
  {
   "cell_type": "code",
   "execution_count": 0,
   "metadata": {
    "application/vnd.databricks.v1+cell": {
     "cellMetadata": {
      "byteLimit": 2048000,
      "rowLimit": 10000
     },
     "inputWidgets": {},
     "nuid": "85b3c4f3-177d-4fab-ae93-463a3f23fd71",
     "showTitle": false,
     "tableResultSettingsMap": {},
     "title": ""
    }
   },
   "outputs": [],
   "source": [
    "# Realizando a análise descritiva para as colunas numéricas\n",
    "# Selecionando apenas as colunas numéricas para a análise descritiva\n",
    "df_numeric = df_expandido.select_dtypes(include=['number'])\n",
    "\n",
    "# Calculando as métricas descritivas\n",
    "analise_descritiva = df_numeric.describe()\n",
    "\n",
    "# Exibindo a análise descritiva\n",
    "print(\"\\nAnálise Descritiva das Colunas Numéricas:\")\n",
    "display(analise_descritiva)"
   ]
  },
  {
   "cell_type": "code",
   "execution_count": 0,
   "metadata": {
    "application/vnd.databricks.v1+cell": {
     "cellMetadata": {
      "byteLimit": 2048000,
      "rowLimit": 10000
     },
     "inputWidgets": {},
     "nuid": "ca542e47-6903-401a-bd60-6e3f38023ea7",
     "showTitle": false,
     "tableResultSettingsMap": {},
     "title": ""
    }
   },
   "outputs": [],
   "source": [
    "# Para as colunas categóricas, podemos verificar a contagem de valores únicos\n",
    "df_categorical = df_expandido.select_dtypes(include=['object'])\n",
    "\n",
    "print(\"\\nAnálise Descritiva das Colunas Categóricas (Contagem de Valores):\")\n",
    "for col in df_categorical.columns:\n",
    "    print(f\"\\nColuna: {col}\")\n",
    "    display(df_categorical[col].value_counts())"
   ]
  },
  {
   "cell_type": "code",
   "execution_count": 0,
   "metadata": {
    "application/vnd.databricks.v1+cell": {
     "cellMetadata": {
      "byteLimit": 2048000,
      "rowLimit": 10000
     },
     "inputWidgets": {},
     "nuid": "144c5a13-5f53-4819-a075-5d663a3d3d3c",
     "showTitle": false,
     "tableResultSettingsMap": {},
     "title": ""
    }
   },
   "outputs": [],
   "source": [
    "def plot_Churn_distribution(df):\n",
    "    if 'Churn' not in df.columns:\n",
    "        print(\"Coluna 'Churn' não encontrada.\")\n",
    "        return\n",
    "    df_filtered = df[df['Churn'].isin(['Yes', 'No'])]\n",
    "    plt.figure(figsize=(6,4))\n",
    "    sns.countplot(data=df_filtered, x='Churn', palette={'Yes':'blue', 'No':'red'})\n",
    "    plt.title('Distribuição de Churn - Telecom X')\n",
    "    plt.xlabel('Churn')\n",
    "    plt.ylabel('Contagem')\n",
    "    plt.show()\n",
    "\n",
    "plot_Churn_distribution(df_expandido)"
   ]
  },
  {
   "cell_type": "code",
   "execution_count": 0,
   "metadata": {
    "application/vnd.databricks.v1+cell": {
     "cellMetadata": {
      "byteLimit": 2048000,
      "rowLimit": 10000
     },
     "inputWidgets": {},
     "nuid": "6818dd5e-ea0d-4feb-a7de-1863ea873697",
     "showTitle": false,
     "tableResultSettingsMap": {},
     "title": ""
    }
   },
   "outputs": [],
   "source": [
    "import matplotlib.pyplot as plt\n",
    "def plot_categorical_churn_distribution(df, categorical_col):\n",
    "    if 'Churn' not in df.columns:\n",
    "        print(\"Coluna 'Churn' não encontrada.\")\n",
    "        return\n",
    "    if categorical_col not in df.columns:\n",
    "        print(f\"Coluna '{categorical_col}' não encontrada.\")\n",
    "        return\n",
    "\n",
    "    df_filtered = df[df['Churn'].isin(['Yes', 'No'])].copy()\n",
    "    # Remove linhas onde a coluna categórica é NaN\n",
    "    df_filtered.dropna(subset=[categorical_col], inplace=True)\n",
    "\n",
    "\n",
    "    plt.figure(figsize=(10, 6))\n",
    "    sns.countplot(data=df_filtered, x=categorical_col, hue='Churn', palette={'Yes':'blue', 'No':'gray'})\n",
    "    plt.title(f'Distribuição de Evasão por {categorical_col}')\n",
    "    plt.xlabel(categorical_col)\n",
    "    plt.ylabel('Contagem')\n",
    "    plt.xticks(rotation=45, ha='right') # Rotaciona os rótulos do eixo X para melhor visualização\n",
    "    plt.tight_layout()\n",
    "    plt.show()\n",
    "\n",
    "# Lista de colunas categóricas para analisar\n",
    "categorical_columns_to_analyze = [\n",
    "    'Genero',\n",
    "    'Idoso',\n",
    "    'Parceiro',\n",
    "    'Dependentes',\n",
    "    'Telefone',\n",
    "    'Multiplas linhas',\n",
    "    'Servico de internet',\n",
    "    'Seguranca online',\n",
    "    'Backup',\n",
    "    'Protecao de dispositivo',\n",
    "    'Suporte tecnico',\n",
    "    'Streaming TV',\n",
    "    'Streaming Filmes',\n",
    "    'Contrato',\n",
    "    'Faturamento',\n",
    "    'Metodo de pagamento'\n",
    "]\n",
    "\n",
    "# Itera sobre as colunas categóricas e plota a distribuição de evasão\n",
    "for col in categorical_columns_to_analyze:\n",
    "    plot_categorical_churn_distribution(df_expandido, col)"
   ]
  }
 ],
 "metadata": {
  "application/vnd.databricks.v1+notebook": {
   "computePreferences": null,
   "dashboards": [],
   "environmentMetadata": {
    "base_environment": "",
    "environment_version": "2"
   },
   "inputWidgetPreferences": null,
   "language": "python",
   "notebookMetadata": {
    "pythonIndentUnit": 4
   },
   "notebookName": "TelecomX2025-06-05 15:10:02",
   "widgets": {}
  },
  "language_info": {
   "name": "python"
  }
 },
 "nbformat": 4,
 "nbformat_minor": 0
}
